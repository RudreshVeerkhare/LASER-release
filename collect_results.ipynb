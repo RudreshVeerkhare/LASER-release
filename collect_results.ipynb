{
 "cells": [
  {
   "cell_type": "code",
   "execution_count": 2,
   "metadata": {},
   "outputs": [],
   "source": [
    "import pandas as pd\n",
    "import numpy as np\n",
    "import json"
   ]
  },
  {
   "cell_type": "code",
   "execution_count": 15,
   "metadata": {},
   "outputs": [],
   "source": [
    "SZs = [1, 3, 5, 7]\n",
    "SDs = [1, 2, 3, 4, 5, 6]"
   ]
  },
  {
   "cell_type": "code",
   "execution_count": 12,
   "metadata": {},
   "outputs": [],
   "source": [
    "path_patterns = {\n",
    "    'funsd': {\n",
    "        'laser': './outputs/funsd/funsd-sz{}-sd{}/decode_result/evaluation.json',\n",
    "    },\n",
    "}\n"
   ]
  },
  {
   "cell_type": "code",
   "execution_count": 13,
   "metadata": {},
   "outputs": [],
   "source": [
    "def load_laser_results(path_pattern):\n",
    "    results = {}\n",
    "    for sz in SZs:\n",
    "        for sd in SDs:\n",
    "            path = path_pattern.format(sz, sd)\n",
    "            info = json.load(open(path))\n",
    "            pre = info['pre']\n",
    "            rec = info['rec']\n",
    "            f1 = info['f1']\n",
    "\n",
    "            if sz not in results:\n",
    "                results[sz] = [[pre], [rec], [f1]]\n",
    "            else:\n",
    "                results[sz][0].append(pre)\n",
    "                results[sz][1].append(rec)\n",
    "                results[sz][2].append(f1)\n",
    "    return results\n",
    "\n",
    "def avg(x):\n",
    "    if len(x) == 0: return 0\n",
    "    else: return sum(x)/len(x)\n",
    "\n",
    "def round2(x):\n",
    "    return '%.2f'%x\n",
    "\n",
    "def create_table(dataset_names, model_names):\n",
    "    raw_data = [[0 for _ in range(len(dataset_names)*3)] for _ in range(len(SZs)*len(model_names))]\n",
    "    for col, dataset_name in enumerate(dataset_names):\n",
    "        for j, model in enumerate(model_names):\n",
    "            results = load_laser_results(path_pattern=path_patterns[dataset_name][model])\n",
    "            for i, sz in enumerate(SZs):\n",
    "                results_sz = results[sz]\n",
    "                pres, recs, f1s = results_sz\n",
    "                \n",
    "                pre = avg(pres)\n",
    "                rec = avg(recs)\n",
    "                f1 = avg(f1s)\n",
    "                \n",
    "                pre = round2(100*pre)\n",
    "                rec = round2(100*rec)\n",
    "                f1 = round2(100*f1)\n",
    "                \n",
    "                pre_std = np.std(pres)\n",
    "                rec_std = np.std(recs)\n",
    "                f1_std = np.std(f1s)\n",
    "                \n",
    "                pre_std = round2(pre_std*100)\n",
    "                rec_std = round2(rec_std*100)\n",
    "                f1_std = round2(f1_std*100)\n",
    "                \n",
    "                raw_data[i*len(model_names)+j][col*3] = (pre, pre_std)\n",
    "                raw_data[i*len(model_names)+j][col*3+1] = (rec, rec_std)\n",
    "                raw_data[i*len(model_names)+j][col*3+2] = (f1, f1_std)\n",
    "    \n",
    "    for col, dataset_name in enumerate(dataset_names):\n",
    "        for i, sz in enumerate(SZs):\n",
    "            for m in range(3):\n",
    "                for j, model in enumerate(model_names):\n",
    "                    a, b = raw_data[i*len(model_names)+j][col*3+m]\n",
    "                    raw_data[i*len(model_names)+j][col*3+m] = f'{a}_{b}'\n",
    "                \n",
    "    df = pd.DataFrame(raw_data, index=pd.MultiIndex.from_product([SZs, model_names]), columns=pd.MultiIndex.from_product([dataset_names, ['Precision', 'Recall', 'F-1']]))\n",
    "    return df"
   ]
  },
  {
   "cell_type": "code",
   "execution_count": 16,
   "metadata": {},
   "outputs": [
    {
     "data": {
      "text/html": [
       "<div>\n",
       "<style scoped>\n",
       "    .dataframe tbody tr th:only-of-type {\n",
       "        vertical-align: middle;\n",
       "    }\n",
       "\n",
       "    .dataframe tbody tr th {\n",
       "        vertical-align: top;\n",
       "    }\n",
       "\n",
       "    .dataframe thead tr th {\n",
       "        text-align: left;\n",
       "    }\n",
       "</style>\n",
       "<table border=\"1\" class=\"dataframe\">\n",
       "  <thead>\n",
       "    <tr>\n",
       "      <th></th>\n",
       "      <th></th>\n",
       "      <th colspan=\"3\" halign=\"left\">funsd</th>\n",
       "    </tr>\n",
       "    <tr>\n",
       "      <th></th>\n",
       "      <th></th>\n",
       "      <th>Precision</th>\n",
       "      <th>Recall</th>\n",
       "      <th>F-1</th>\n",
       "    </tr>\n",
       "  </thead>\n",
       "  <tbody>\n",
       "    <tr>\n",
       "      <th>1</th>\n",
       "      <th>laser</th>\n",
       "      <td>31.33_4.43</td>\n",
       "      <td>37.07_7.55</td>\n",
       "      <td>33.70_5.02</td>\n",
       "    </tr>\n",
       "    <tr>\n",
       "      <th>3</th>\n",
       "      <th>laser</th>\n",
       "      <td>43.12_1.45</td>\n",
       "      <td>47.05_6.43</td>\n",
       "      <td>44.85_3.92</td>\n",
       "    </tr>\n",
       "    <tr>\n",
       "      <th>5</th>\n",
       "      <th>laser</th>\n",
       "      <td>46.78_2.32</td>\n",
       "      <td>52.60_1.33</td>\n",
       "      <td>49.50_1.60</td>\n",
       "    </tr>\n",
       "    <tr>\n",
       "      <th>7</th>\n",
       "      <th>laser</th>\n",
       "      <td>50.15_3.36</td>\n",
       "      <td>53.87_3.00</td>\n",
       "      <td>51.88_2.63</td>\n",
       "    </tr>\n",
       "  </tbody>\n",
       "</table>\n",
       "</div>"
      ],
      "text/plain": [
       "              funsd                        \n",
       "          Precision      Recall         F-1\n",
       "1 laser  31.33_4.43  37.07_7.55  33.70_5.02\n",
       "3 laser  43.12_1.45  47.05_6.43  44.85_3.92\n",
       "5 laser  46.78_2.32  52.60_1.33  49.50_1.60\n",
       "7 laser  50.15_3.36  53.87_3.00  51.88_2.63"
      ]
     },
     "execution_count": 16,
     "metadata": {},
     "output_type": "execute_result"
    }
   ],
   "source": [
    "dataset_names = ['funsd']\n",
    "model_names = ['laser']\n",
    "table = create_table(dataset_names, model_names)\n",
    "table"
   ]
  },
  {
   "cell_type": "code",
   "execution_count": null,
   "metadata": {},
   "outputs": [],
   "source": []
  },
  {
   "cell_type": "code",
   "execution_count": null,
   "metadata": {},
   "outputs": [],
   "source": []
  }
 ],
 "metadata": {
  "interpreter": {
   "hash": "58a4ff1c0e16f9791f743890680cfe5f7a07d5c1c1359ef63b6adc55468197f1"
  },
  "kernelspec": {
   "display_name": "Python 3.8.5 ('LASER')",
   "language": "python",
   "name": "python3"
  },
  "language_info": {
   "codemirror_mode": {
    "name": "ipython",
    "version": 3
   },
   "file_extension": ".py",
   "mimetype": "text/x-python",
   "name": "python",
   "nbconvert_exporter": "python",
   "pygments_lexer": "ipython3",
   "version": "3.8.5"
  },
  "orig_nbformat": 4
 },
 "nbformat": 4,
 "nbformat_minor": 2
}
